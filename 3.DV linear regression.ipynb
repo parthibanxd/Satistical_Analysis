{
 "cells": [
  {
   "cell_type": "code",
   "execution_count": 2,
   "id": "9f3ad474-6224-421d-9442-2bf3bd045b4e",
   "metadata": {},
   "outputs": [
    {
     "name": "stdout",
     "output_type": "stream",
     "text": [
      "  Unnamed: 0  Hours  Scores\n",
      "0     2.5,21    2.5      21\n",
      "1     5.1,47    5.1      47\n",
      "2     3.2,27    3.2      27\n",
      "3     8.5,75    8.5      75\n",
      "4     3.5,30    3.5      30\n",
      "Columns: Index(['Unnamed: 0', 'Hours', 'Scores'], dtype='object')\n",
      "Correlation coefficient: 0.976, p-val: 9.133e-17\n",
      "Intercept: 2.484\n",
      "Slope: 9.776\n",
      "Predicted scores: [26.92318188 52.3402707  33.76624426 85.57800223 36.69898527 17.14737849\n",
      " 92.4210646  56.25059205 83.62284155 28.87834256 77.75735951 60.16091341\n",
      " 46.47478866 34.74382459 13.23705714 89.48832358 26.92318188 21.05769985\n",
      " 62.11607409 74.8246185  28.87834256 49.40752968 39.63172629 69.9367168\n",
      " 78.73493985]\n",
      "Mean squared error: 28.883\n"
     ]
    }
   ],
   "source": [
    "import numpy as np\n",
    "import pandas as pd\n",
    "from scipy import stats\n",
    "from sklearn.linear_model import LinearRegression\n",
    "from sklearn.metrics import mean_squared_error\n",
    "\n",
    "# Load data\n",
    "data = pd.read_csv(r\"C:\\Users\\Parthiban\\Downloads\\Hours and Scores.csv\")\n",
    "print(data.head())\n",
    "print(\"Columns:\", data.columns)   # 👈 check actual column names\n",
    "\n",
    "# Prepare data for analysis (use correct names)\n",
    "study_hours = np.array(data['Hours'])\n",
    "scores = np.array(data['Scores'])\n",
    "\n",
    "# Hypothesis\n",
    "# H0: no correlation between the study hours and the results (corr = 0)\n",
    "# H1: correlation exists (corr != 0)\n",
    "\n",
    "# Correlation analysis\n",
    "corr_coef, p_value_corr = stats.pearsonr(study_hours, scores)\n",
    "print(f\"Correlation coefficient: {corr_coef:.3f}, p-val: {p_value_corr:.3e}\")\n",
    "\n",
    "# Simple linear regression\n",
    "X = study_hours.reshape(-1, 1)\n",
    "model = LinearRegression().fit(X, scores)\n",
    "print(f\"Intercept: {model.intercept_:.3f}\")\n",
    "print(f\"Slope: {model.coef_[0]:.3f}\")\n",
    "\n",
    "# Predict for demonstration\n",
    "pred = model.predict(X)\n",
    "print(\"Predicted scores:\", pred)\n",
    "\n",
    "# Evaluate the model\n",
    "print(f\"Mean squared error: {mean_squared_error(scores, pred):.3f}\")\n"
   ]
  },
  {
   "cell_type": "code",
   "execution_count": null,
   "id": "8e8ca694-dfb6-43a4-9147-8ad07774ae9b",
   "metadata": {},
   "outputs": [],
   "source": []
  }
 ],
 "metadata": {
  "kernelspec": {
   "display_name": "Python 3 (ipykernel)",
   "language": "python",
   "name": "python3"
  },
  "language_info": {
   "codemirror_mode": {
    "name": "ipython",
    "version": 3
   },
   "file_extension": ".py",
   "mimetype": "text/x-python",
   "name": "python",
   "nbconvert_exporter": "python",
   "pygments_lexer": "ipython3",
   "version": "3.13.5"
  }
 },
 "nbformat": 4,
 "nbformat_minor": 5
}
