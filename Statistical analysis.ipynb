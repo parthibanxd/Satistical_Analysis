{
 "cells": [
  {
   "cell_type": "code",
   "execution_count": 7,
   "id": "a84f307c-1ef4-4c61-85c7-4ac8b5306291",
   "metadata": {},
   "outputs": [
    {
     "name": "stdout",
     "output_type": "stream",
     "text": [
      "Z=22.209, p=0.000e+00 Reject H0\n",
      "T=22.209, p=1.684e-64 Reject H0\n",
      "F=3.238, p=2.220e-16 Reject H0\n"
     ]
    }
   ],
   "source": [
    "import pandas as pd\n",
    "import numpy as np\n",
    "from scipy import stats\n",
    "\n",
    "df = pd.read_csv(r\"C:\\Users\\Parthiban\\Downloads\\archive (5)\\breast-cancer.csv\")\n",
    "mal = df[df['diagnosis']=='M']['radius_mean']\n",
    "ben = df[df['diagnosis']=='B']['radius_mean']\n",
    "alpha = 0.05\n",
    "\n",
    "# Z-test: H0: means equal, H1: different\n",
    "z = (mal.mean()-ben.mean())/np.sqrt(mal.var()/len(mal)+ben.var()/len(ben))\n",
    "print(f\"Z={z:.3f}, p={2*(1-stats.norm.cdf(abs(z))):.3e}\", \"Reject H0\" if 2*(1-stats.norm.cdf(abs(z)))<alpha else \"Fail H0\")\n",
    "\n",
    "# T-test: H0: means equal, H1: different\n",
    "t, p = stats.ttest_ind(mal, ben, equal_var=False)\n",
    "print(f\"T={t:.3f}, p={p:.3e}\", \"Reject H0\" if p<alpha else \"Fail H0\")\n",
    "\n",
    "# F-test: H0: variances equal, H1: different\n",
    "f = mal.var()/ben.var()\n",
    "df1, df2 = len(mal)-1, len(ben)-1\n",
    "p_f = 2*min(stats.f.cdf(f, df1, df2), 1-stats.f.cdf(f, df1, df2))\n",
    "print(f\"F={f:.3f}, p={p_f:.3e}\", \"Reject H0\" if p_f<alpha else \"Fail H0\")\n"
   ]
  },
  {
   "cell_type": "code",
   "execution_count": 11,
   "id": "5da83b77-85af-4721-9b2f-aa8ff513a4e0",
   "metadata": {},
   "outputs": [
    {
     "name": "stdout",
     "output_type": "stream",
     "text": [
      "Z=8.855, p=0.000e+00 Reject H0\n",
      "T=8.855, p=4.843e-18 Reject H0\n",
      "F=0.854, p=9.206e-02 Fail H0\n"
     ]
    }
   ],
   "source": [
    "import pandas as pd\n",
    "import numpy as np\n",
    "from scipy import stats\n",
    "\n",
    "# Load dataset\n",
    "df = pd.read_csv(r'C:\\Users\\Parthiban\\Downloads\\archive (7)\\heart_disease_uci.csv')\n",
    "group1 = df[df['num'] > 0]['age']    # Heart disease present\n",
    "group2 = df[df['num'] == 0]['age']   # No heart disease\n",
    "alpha = 0.05\n",
    "\n",
    "# Z-test\n",
    "z = (group1.mean()-group2.mean())/np.sqrt(group1.var()/len(group1)+group2.var()/len(group2))\n",
    "p_z = 2*(1 - stats.norm.cdf(abs(z)))\n",
    "print(f\"Z={z:.3f}, p={p_z:.3e}\", \"Reject H0\" if p_z < alpha else \"Fail H0\")\n",
    "\n",
    "# T-test\n",
    "t, p_t = stats.ttest_ind(group1.dropna(), group2.dropna(), equal_var=False)\n",
    "print(f\"T={t:.3f}, p={p_t:.3e}\", \"Reject H0\" if p_t < alpha else \"Fail H0\")\n",
    "\n",
    "# F-test\n",
    "f = group1.var() / group2.var()\n",
    "df1, df2 = len(group1)-1, len(group2)-1\n",
    "p_f = 2 * min(stats.f.cdf(f, df1, df2), 1-stats.f.cdf(f, df1, df2))\n",
    "print(f\"F={f:.3f}, p={p_f:.3e}\", \"Reject H0\" if p_f < alpha else \"Fail H0\")\n"
   ]
  },
  {
   "cell_type": "code",
   "execution_count": 16,
   "id": "bb7bdd58-331f-4541-8e5a-baa4224f9962",
   "metadata": {},
   "outputs": [
    {
     "name": "stdout",
     "output_type": "stream",
     "text": [
      "Columns: Index(['longitude', 'latitude', 'housing_median_age', 'total_rooms',\n",
      "       'total_bedrooms', 'population', 'households', 'median_income',\n",
      "       'median_house_value', 'ocean_proximity'],\n",
      "      dtype='object')\n",
      "Z=49.296, p=0.000e+00 Reject H0\n",
      "T=49.296, p=0.000e+00 Reject H0\n",
      "F=3.061, p=2.220e-16 Reject H0\n"
     ]
    }
   ],
   "source": [
    "import pandas as pd\n",
    "import numpy as np\n",
    "from scipy import stats\n",
    "\n",
    "# Load the housing dataset\n",
    "df = pd.read_csv(r\"C:\\Users\\Parthiban\\Downloads\\archive (6)\\housing.csv\")\n",
    "\n",
    "# Verify columns\n",
    "print(\"Columns:\", df.columns)\n",
    "\n",
    "# Define groups based on ocean proximity\n",
    "group1 = df[df['ocean_proximity'] == 'NEAR OCEAN']['median_house_value']\n",
    "group2 = df[df['ocean_proximity'] == 'INLAND']['median_house_value']\n",
    "\n",
    "alpha = 0.05\n",
    "\n",
    "# --- Z-test ---\n",
    "z = (group1.mean() - group2.mean()) / np.sqrt(group1.var()/len(group1) + group2.var()/len(group2))\n",
    "p_z = 2 * (1 - stats.norm.cdf(abs(z)))\n",
    "print(f\"Z={z:.3f}, p={p_z:.3e}\", \"Reject H0\" if p_z < alpha else \"Fail H0\")\n",
    "\n",
    "# --- T-test (Welch's t-test) ---\n",
    "t, p_t = stats.ttest_ind(group1.dropna(), group2.dropna(), equal_var=False)\n",
    "print(f\"T={t:.3f}, p={p_t:.3e}\", \"Reject H0\" if p_t < alpha else \"Fail H0\")\n",
    "\n",
    "# --- F-test (variance ratio) ---\n",
    "f = group1.var() / group2.var()\n",
    "df1, df2 = len(group1) - 1, len(group2) - 1\n",
    "p_f = 2 * min(stats.f.cdf(f, df1, df2), 1 - stats.f.cdf(f, df1, df2))\n",
    "print(f\"F={f:.3f}, p={p_f:.3e}\", \"Reject H0\" if p_f < alpha else \"Fail H0\")\n"
   ]
  },
  {
   "cell_type": "code",
   "execution_count": null,
   "id": "08d56e90-7635-4b9f-b016-418492671b9b",
   "metadata": {},
   "outputs": [],
   "source": []
  }
 ],
 "metadata": {
  "kernelspec": {
   "display_name": "Python 3 (ipykernel)",
   "language": "python",
   "name": "python3"
  },
  "language_info": {
   "codemirror_mode": {
    "name": "ipython",
    "version": 3
   },
   "file_extension": ".py",
   "mimetype": "text/x-python",
   "name": "python",
   "nbconvert_exporter": "python",
   "pygments_lexer": "ipython3",
   "version": "3.13.5"
  }
 },
 "nbformat": 4,
 "nbformat_minor": 5
}
