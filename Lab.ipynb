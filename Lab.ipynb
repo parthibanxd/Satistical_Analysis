{
 "cells": [
  {
   "cell_type": "code",
   "execution_count": 1,
   "id": "f22f67b8-d28c-417a-bdfb-cd91589cb859",
   "metadata": {},
   "outputs": [
    {
     "name": "stdout",
     "output_type": "stream",
     "text": [
      "Predictions: ['Female' 'Female' 'Male']\n",
      "Accuracy: 1.0\n"
     ]
    }
   ],
   "source": [
    "import pandas as pd \n",
    "from sklearn.model_selection import train_test_split \n",
    "from sklearn.naive_bayes import GaussianNB \n",
    "from sklearn.metrics import accuracy_score \n",
    "# Sample data \n",
    "data = { \n",
    "'long_hair': [1,0,1,0,1,0,0,1], \n",
    "'forehead_width_cm': [6.5,6.0,5.8,5.5,6.2,5.7,5.9,6.1], \n",
    "'gender': ['Female','Male','Female','Male','Female','Male','Male','Female'] \n",
    "} \n",
    "df = pd.DataFrame(data) \n",
    "X = df[['long_hair','forehead_width_cm']] \n",
    "y = df['gender'] \n",
    "# Split train-test \n",
    "X_train, X_test, y_train, y_test = train_test_split(X, y, test_size=0.3, \n",
    "random_state=1) \n",
    "# Train model \n",
    "model = GaussianNB() \n",
    "model.fit(X_train, y_train) \n",
    "# Predict \n",
    "y_pred = model.predict(X_test) \n",
    "print(\"Predictions:\", y_pred) \n",
    "print(\"Accuracy:\", accuracy_score(y_test, y_pred)) "
   ]
  },
  {
   "cell_type": "code",
   "execution_count": 2,
   "id": "1506f765-465c-4737-ba86-8bfeae68bc39",
   "metadata": {},
   "outputs": [
    {
     "name": "stdout",
     "output_type": "stream",
     "text": [
      "Predicted marks for 5 hours: 50.0\n"
     ]
    }
   ],
   "source": [
    "import numpy as np \n",
    "from sklearn.linear_model import LinearRegression \n",
    "X = np.array([[2],[4],[6],[8]])  # Hours studied \n",
    "y = np.array([20,40,60,80])      \n",
    "# Marks \n",
    "model = LinearRegression() \n",
    "model.fit(X, y) \n",
    "# Predict marks for 5 hours \n",
    "pred = model.predict([[5]]) \n",
    "print(\"Predicted marks for 5 hours:\", pred[0]) "
   ]
  },
  {
   "cell_type": "code",
   "execution_count": 3,
   "id": "7539ab23-8401-4276-b5d9-e2e519a1c5c2",
   "metadata": {},
   "outputs": [
    {
     "name": "stdout",
     "output_type": "stream",
     "text": [
      "Accuracy: 0.9666666666666667\n"
     ]
    }
   ],
   "source": [
    "from sklearn.datasets import load_iris \n",
    "from sklearn.model_selection import train_test_split \n",
    "from sklearn.neighbors import KNeighborsClassifier \n",
    "from sklearn.metrics import accuracy_score \n",
    "iris = load_iris() \n",
    "X, y = iris.data, iris.target \n",
    "X_train, X_test, y_train, y_test = train_test_split(X, y, test_size=0.2, \n",
    "random_state=0) \n",
    "knn = KNeighborsClassifier(n_neighbors=3) \n",
    "knn.fit(X_train, y_train) \n",
    "y_pred = knn.predict(X_test) \n",
    "print(\"Accuracy:\", accuracy_score(y_test, y_pred)) "
   ]
  },
  {
   "cell_type": "code",
   "execution_count": 4,
   "id": "d0787f83-42ab-4088-a046-f806ecbd9af4",
   "metadata": {},
   "outputs": [
    {
     "name": "stdout",
     "output_type": "stream",
     "text": [
      "Prediction: Apple\n"
     ]
    }
   ],
   "source": [
    "from sklearn.tree import DecisionTreeClassifier \n",
    "# Features: [Weight, Texture(1=Smooth, 0=Rough)] \n",
    "X = [[140,1],[130,1],[150,0],[170,0]] \n",
    "y = ['Apple','Apple','Orange','Orange'] \n",
    "model = DecisionTreeClassifier() \n",
    "model.fit(X, y) \n",
    "pred = model.predict([[145,1]]) \n",
    "print(\"Prediction:\", pred[0])"
   ]
  },
  {
   "cell_type": "code",
   "execution_count": 5,
   "id": "90130b75-84ed-4f62-ac65-a86697a06cb5",
   "metadata": {},
   "outputs": [
    {
     "name": "stderr",
     "output_type": "stream",
     "text": [
      "C:\\ProgramData\\anaconda3\\Lib\\site-packages\\joblib\\externals\\loky\\backend\\context.py:136: UserWarning: Could not find the number of physical cores for the following reason:\n",
      "[WinError 2] The system cannot find the file specified\n",
      "Returning the number of logical cores instead. You can silence this warning by setting LOKY_MAX_CPU_COUNT to the number of cores you want to use.\n",
      "  warnings.warn(\n",
      "  File \"C:\\ProgramData\\anaconda3\\Lib\\site-packages\\joblib\\externals\\loky\\backend\\context.py\", line 257, in _count_physical_cores\n",
      "    cpu_info = subprocess.run(\n",
      "        \"wmic CPU Get NumberOfCores /Format:csv\".split(),\n",
      "        capture_output=True,\n",
      "        text=True,\n",
      "    )\n",
      "  File \"C:\\ProgramData\\anaconda3\\Lib\\subprocess.py\", line 554, in run\n",
      "    with Popen(*popenargs, **kwargs) as process:\n",
      "         ~~~~~^^^^^^^^^^^^^^^^^^^^^^\n",
      "  File \"C:\\ProgramData\\anaconda3\\Lib\\subprocess.py\", line 1039, in __init__\n",
      "    self._execute_child(args, executable, preexec_fn, close_fds,\n",
      "    ~~~~~~~~~~~~~~~~~~~^^^^^^^^^^^^^^^^^^^^^^^^^^^^^^^^^^^^^^^^^\n",
      "                        pass_fds, cwd, env,\n",
      "                        ^^^^^^^^^^^^^^^^^^^\n",
      "    ...<5 lines>...\n",
      "                        gid, gids, uid, umask,\n",
      "                        ^^^^^^^^^^^^^^^^^^^^^^\n",
      "                        start_new_session, process_group)\n",
      "                        ^^^^^^^^^^^^^^^^^^^^^^^^^^^^^^^^^\n",
      "  File \"C:\\ProgramData\\anaconda3\\Lib\\subprocess.py\", line 1554, in _execute_child\n",
      "    hp, ht, pid, tid = _winapi.CreateProcess(executable, args,\n",
      "                       ~~~~~~~~~~~~~~~~~~~~~^^^^^^^^^^^^^^^^^^\n",
      "                             # no special security\n",
      "                             ^^^^^^^^^^^^^^^^^^^^^\n",
      "    ...<4 lines>...\n",
      "                             cwd,\n",
      "                             ^^^^\n",
      "                             startupinfo)\n",
      "                             ^^^^^^^^^^^^\n",
      "C:\\ProgramData\\anaconda3\\Lib\\site-packages\\sklearn\\cluster\\_kmeans.py:1419: UserWarning: KMeans is known to have a memory leak on Windows with MKL, when there are less chunks than available threads. You can avoid it by setting the environment variable OMP_NUM_THREADS=1.\n",
      "  warnings.warn(\n"
     ]
    },
    {
     "name": "stdout",
     "output_type": "stream",
     "text": [
      "Cluster Centers:\n",
      " [[46.66666667 43.33333333]\n",
      " [80.         86.66666667]]\n",
      "Labels: [1 0 1 0 0 1]\n"
     ]
    },
    {
     "data": {
      "image/png": "[encoded data removed]",
      "text/plain": [
       "<Figure size 640x480 with 1 Axes>"
      ]
     },
     "metadata": {},
     "output_type": "display_data"
    }
   ],
   "source": [
    "import numpy as np \n",
    "from sklearn.cluster import KMeans \n",
    "import matplotlib.pyplot as plt \n",
    "X = np.array([[70,80],[65,60],[90,95],[40,30],[35,40],[80,85]]) \n",
    "kmeans = KMeans(n_clusters=2, random_state=0) \n",
    "kmeans.fit(X) \n",
    "print(\"Cluster Centers:\\n\", kmeans.cluster_centers_) \n",
    "print(\"Labels:\", kmeans.labels_) \n",
    "plt.scatter(X[:,0], X[:,1], c=kmeans.labels_, cmap='rainbow') \n",
    "plt.scatter(kmeans.cluster_centers_[:,0], kmeans.cluster_centers_[:,1], \n",
    "color='black', marker='X') \n",
    "plt.title(\"Student Clusters\") \n",
    "plt.show()"
   ]
  },
  {
   "cell_type": "code",
   "execution_count": 6,
   "id": "5cfb0b25-9368-48a2-8129-1af6674a7729",
   "metadata": {},
   "outputs": [
    {
     "name": "stdout",
     "output_type": "stream",
     "text": [
      "Predicted (5 hours): 1\n",
      "Predicted (2 hours): 0\n"
     ]
    }
   ],
   "source": [
    "import numpy as np \n",
    "from sklearn.linear_model import LogisticRegression \n",
    "X = np.array([[1],[2],[3],[4],[5],[6],[7],[8]]) \n",
    "y = np.array([0,0,0,0,1,1,1,1])  # 1=Pass, 0=Fail \n",
    "model = LogisticRegression() \n",
    "model.fit(X, y) \n",
    "print(\"Predicted (5 hours):\", model.predict([[5]])[0]) \n",
    "print(\"Predicted (2 hours):\", model.predict([[2]])[0]) "
   ]
  },
  {
   "cell_type": "code",
   "execution_count": 7,
   "id": "a4e27b0a-4cd5-4ecd-ba12-81258a4b5b34",
   "metadata": {},
   "outputs": [
    {
     "name": "stdout",
     "output_type": "stream",
     "text": [
      "Predict [4,4]: 0\n"
     ]
    }
   ],
   "source": [
    "from sklearn import svm \n",
    "X = [[1,2],[2,3],[3,3],[6,5],[7,7],[8,6]] \n",
    "y = [0,0,0,1,1,1] \n",
    "clf = svm.SVC(kernel='linear') \n",
    "clf.fit(X, y) \n",
    "print(\"Predict [4,4]:\", clf.predict([[4,4]])[0])"
   ]
  },
  {
   "cell_type": "code",
   "execution_count": 8,
   "id": "3a02627b-0fa0-4c1d-a2de-d164656f9762",
   "metadata": {},
   "outputs": [
    {
     "name": "stdout",
     "output_type": "stream",
     "text": [
      "Confusion Matrix:\n",
      " [[1 1]\n",
      " [1 3]]\n",
      "Accuracy: 0.6666666666666666\n"
     ]
    }
   ],
   "source": [
    "from sklearn.metrics import confusion_matrix, accuracy_score \n",
    "y_true = [1,0,1,1,0,1] \n",
    "y_pred = [1,0,0,1,1,1] \n",
    "print(\"Confusion Matrix:\\n\", confusion_matrix(y_true, y_pred)) \n",
    "print(\"Accuracy:\", accuracy_score(y_true, y_pred)) "
   ]
  },
  {
   "cell_type": "code",
   "execution_count": 10,
   "id": "162591bc-b0a9-401b-afa2-aa61d4647cf0",
   "metadata": {},
   "outputs": [
    {
     "name": "stdout",
     "output_type": "stream",
     "text": [
      "Huffman Codes: [['L', '0'], ['O', '10'], ['E', '110'], ['H', '111']]\n"
     ]
    }
   ],
   "source": [
    "import heapq\n",
    "\n",
    "def huffman(text):\n",
    "    freq = {c: text.count(c) for c in set(text)}\n",
    "    heap = [[f, [c, \"\"]] for c, f in freq.items()]\n",
    "    heapq.heapify(heap)\n",
    "    while len(heap) > 1:\n",
    "        lo = heapq.heappop(heap)\n",
    "        hi = heapq.heappop(heap)\n",
    "        for p in lo[1:]:\n",
    "            p[1] = '0' + p[1]\n",
    "        for p in hi[1:]:\n",
    "            p[1] = '1' + p[1]\n",
    "        heapq.heappush(heap, [lo[0] + hi[0]] + lo[1:] + hi[1:])\n",
    "    return sorted(heapq.heappop(heap)[1:], key=lambda p: (len(p[-1]), p))\n",
    "\n",
    "text = \"HELLO\"\n",
    "codes = huffman(text)\n",
    "print(\"Huffman Codes:\", codes)\n"
   ]
  },
  {
   "cell_type": "code",
   "execution_count": 12,
   "id": "28a8599b-33a2-4b2d-9249-240ec9803b4f",
   "metadata": {},
   "outputs": [
    {
     "name": "stdout",
     "output_type": "stream",
     "text": [
      "LCS length: 4\n"
     ]
    }
   ],
   "source": [
    "def lcs(a, b):\n",
    "    m, n = len(a), len(b)\n",
    "    dp = [[0] * (n + 1) for _ in range(m + 1)]\n",
    "    for i in range(m):\n",
    "        for j in range(n):\n",
    "            if a[i] == b[j]:\n",
    "                dp[i + 1][j + 1] = dp[i][j] + 1\n",
    "            else:\n",
    "                dp[i + 1][j + 1] = max(dp[i][j + 1], dp[i + 1][j])\n",
    "    return dp[m][n]\n",
    "\n",
    "print(\"LCS length:\", lcs(\"ACGTGCA\", \"GTCGACG\"))\n"
   ]
  },
  {
   "cell_type": "code",
   "execution_count": 13,
   "id": "e1d74aa8-4fb7-44e6-87b2-bc4cb769a9ad",
   "metadata": {},
   "outputs": [
    {
     "name": "stdout",
     "output_type": "stream",
     "text": [
      "Path: [0, 3, 1, 2]\n",
      "Distance: 13.22\n"
     ]
    }
   ],
   "source": [
    "import math\n",
    "\n",
    "cities = [(0, 0), (2, 3), (5, 4), (1, 1)]\n",
    "visited = [0]\n",
    "total = 0\n",
    "\n",
    "while len(visited) < len(cities):\n",
    "    last = visited[-1]\n",
    "    next_city = min(\n",
    "        [i for i in range(len(cities)) if i not in visited],\n",
    "        key=lambda i: math.dist(cities[last], cities[i])\n",
    "    )\n",
    "    total += math.dist(cities[last], cities[next_city])\n",
    "    visited.append(next_city)\n",
    "\n",
    "total += math.dist(cities[visited[-1]], cities[0])\n",
    "\n",
    "print(\"Path:\", visited)\n",
    "print(\"Distance:\", round(total, 2))\n"
   ]
  },
  {
   "cell_type": "code",
   "execution_count": 14,
   "id": "fa64cf07-288f-453f-a22a-28b9931fc1ab",
   "metadata": {},
   "outputs": [
    {
     "name": "stdout",
     "output_type": "stream",
     "text": [
      "Original: [10, 7, 8, 9, 1, 5]\n",
      "Sorted: [1, 5, 7, 8, 9, 10]\n"
     ]
    }
   ],
   "source": [
    "import random\n",
    "\n",
    "def quicksort(arr):\n",
    "    if len(arr) <= 1:\n",
    "        return arr\n",
    "    pivot = random.choice(arr)\n",
    "    left = [x for x in arr if x < pivot]\n",
    "    mid = [x for x in arr if x == pivot]\n",
    "    right = [x for x in arr if x > pivot]\n",
    "    return quicksort(left) + mid + quicksort(right)\n",
    "\n",
    "data = [10, 7, 8, 9, 1, 5]\n",
    "print(\"Original:\", data)\n",
    "print(\"Sorted:\", quicksort(data))\n"
   ]
  },
  {
   "cell_type": "code",
   "execution_count": 15,
   "id": "5121ad3c-cdfa-4039-b7f2-ae5e2c0d5373",
   "metadata": {},
   "outputs": [
    {
     "name": "stdout",
     "output_type": "stream",
     "text": [
      "0 : [10, 15, 20, 25, 30]\n",
      "1 : []\n",
      "2 : []\n",
      "3 : []\n",
      "4 : []\n"
     ]
    }
   ],
   "source": [
    "class HashTable:\n",
    "    def __init__(self, size):\n",
    "        self.size = size\n",
    "        self.table = [[] for _ in range(size)]\n",
    "\n",
    "    def insert(self, key):\n",
    "        self.table[key % self.size].append(key)\n",
    "\n",
    "    def display(self):\n",
    "        for i, b in enumerate(self.table):\n",
    "            print(i, \":\", b)\n",
    "\n",
    "h = HashTable(5)\n",
    "for k in [10, 15, 20, 25, 30]:\n",
    "    h.insert(k)\n",
    "h.display()\n"
   ]
  },
  {
   "cell_type": "code",
   "execution_count": null,
   "id": "faa2580d-fe08-4ae0-893e-2e69d8a49393",
   "metadata": {},
   "outputs": [],
   "source": []
  }
 ],
 "metadata": {
  "kernelspec": {
   "display_name": "Python 3 (ipykernel)",
   "language": "python",
   "name": "python3"
  },
  "language_info": {
   "codemirror_mode": {
    "name": "ipython",
    "version": 3
   },
   "file_extension": ".py",
   "mimetype": "text/x-python",
   "name": "python",
   "nbconvert_exporter": "python",
   "pygments_lexer": "ipython3",
   "version": "3.13.5"
  }
 },
 "nbformat": 4,
 "nbformat_minor": 5
}
